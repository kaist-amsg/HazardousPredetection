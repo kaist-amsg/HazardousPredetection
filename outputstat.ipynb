{
 "cells": [
  {
   "cell_type": "code",
   "execution_count": 1,
   "metadata": {},
   "outputs": [],
   "source": [
    "import torch\n",
    "import torch.nn as nn\n",
    "import torch.nn.functional as F\n",
    "import torch.optim as optim\n",
    "import ast"
   ]
  },
  {
   "cell_type": "code",
   "execution_count": 427,
   "metadata": {},
   "outputs": [],
   "source": [
    "import numpy as np\n",
    "import matplotlib.pyplot as plt\n",
    "import pprint\n",
    "from mpl_toolkits.axes_grid1 import make_axes_locatable"
   ]
  },
  {
   "cell_type": "markdown",
   "metadata": {},
   "source": [
    "### 1. Preprocessing"
   ]
  },
  {
   "cell_type": "code",
   "execution_count": 3,
   "metadata": {},
   "outputs": [],
   "source": [
    "#learning info\n",
    "model_info = \"4c_2f_512_yield\"\n",
    "maxlen = 20\n",
    "fp_len = 512\n",
    "path = './data/'\n",
    "\n",
    "toxic_name_ = \"ammonia\"\n",
    "fail_name = \"N\"\n",
    "\n",
    "#read ammonia data\n",
    "reaction_list = []\n",
    "f = open(path + 'toxic_fp' + str(fp_len) + toxic_name_, 'r', encoding='UTF8')\n",
    "\n",
    "while True:\n",
    "    line = f.readline()\n",
    "    if not line: break\n",
    "    reaction = ast.literal_eval(line)\n",
    "    reaction_list.append(reaction)\n",
    "f.close()\n",
    "\n",
    "ammonia_list = []\n",
    "for reaction in reaction_list:\n",
    "    in_des = []\n",
    "    for reactants in reaction[0]:\n",
    "        in_des = in_des + reactants\n",
    "    while len(in_des) < fp_len*maxlen:\n",
    "        in_des.append(0)\n",
    "    ammonia_list.append([torch.FloatTensor(in_des), reaction[1]])\n",
    "\n",
    "#read failed data\n",
    "reaction_list = []\n",
    "f = open(path + 'failed_fp' + str(fp_len) + '_with_yield_' + fail_name, 'r', encoding='UTF8')\n",
    "\n",
    "while True:\n",
    "    line = f.readline()\n",
    "    if not line: break\n",
    "    reaction =ast.literal_eval(line)\n",
    "    reaction_list.append(reaction)\n",
    "f.close()\n",
    "\n",
    "failed_list = []\n",
    "for reaction in reaction_list:\n",
    "    in_des = []\n",
    "    for reactants in reaction[0]:\n",
    "        in_des = in_des + reactants\n",
    "    while len(in_des) < fp_len*maxlen:\n",
    "        in_des.append(0)\n",
    "    failed_list.append([torch.FloatTensor(in_des), reaction[1]])\n",
    "\n",
    "\n",
    "#read cv data\n",
    "f = open('./cv_index_list', 'r', encoding='UTF8')\n",
    "cvdata = ast.literal_eval(f.readline())\n",
    "f.close()\n",
    "failed_cv = cvdata[0]\n",
    "ammonia_cv = cvdata[1]\n",
    "\n",
    "#data divide with 10 cv - 10% test, other tv. tv randomly shuffle and 10% - val for early stop, 80% for train\n",
    "test_10cv = []\n",
    "test_failed_tmp = []\n",
    "for test_index in failed_cv[9]:\n",
    "    test_failed_tmp.append(failed_list[test_index])\n",
    "test_10cv.append(test_failed_tmp)\n",
    "test_ammonia_tmp = []\n",
    "for test_index in ammonia_cv[9]:\n",
    "    test_ammonia_tmp.append(ammonia_list[test_index])\n",
    "test_10cv.append(test_ammonia_tmp)"
   ]
  },
  {
   "cell_type": "markdown",
   "metadata": {},
   "source": [
    "### 2. Model Definition"
   ]
  },
  {
   "cell_type": "code",
   "execution_count": 354,
   "metadata": {},
   "outputs": [
    {
     "name": "stdout",
     "output_type": "stream",
     "text": [
      "Net(\n",
      "  (conv1): Conv2d(1, 512, kernel_size=(512, 1), stride=(512, 512))\n",
      "  (conv2): Conv2d(1, 256, kernel_size=(512, 1), stride=(512, 512))\n",
      "  (conv3): Conv2d(1, 256, kernel_size=(256, 1), stride=(256, 256))\n",
      "  (conv4): Conv2d(1, 256, kernel_size=(256, 1), stride=(256, 256))\n",
      "  (fc1): Linear(in_features=256, out_features=128, bias=True)\n",
      "  (fc2): Linear(in_features=128, out_features=1, bias=True)\n",
      ")\n"
     ]
    }
   ],
   "source": [
    "#model\n",
    "class Net(nn.Module):\n",
    "\n",
    "    def __init__(self):\n",
    "        super(Net, self).__init__()\n",
    "        self.conv1 = nn.Conv2d(1, fp_len, kernel_size=(fp_len,1), stride=fp_len)\n",
    "        self.conv2 = nn.Conv2d(1, int(fp_len/2), kernel_size=(fp_len,1), stride=fp_len)\n",
    "        self.conv3 = nn.Conv2d(1, int(fp_len/2), kernel_size=(int(fp_len/2),1), stride=int(fp_len/2))\n",
    "        self.conv4 = nn.Conv2d(1, int(fp_len/2), kernel_size=(int(fp_len/2),1), stride=int(fp_len/2))\n",
    "        self.fc1 = nn.Linear(int(fp_len/2), int(fp_len/4))\n",
    "        self.fc2 = nn.Linear(int(fp_len/4), 1)\n",
    "\n",
    "    def forward(self, input_tensor):\n",
    "        input_reshaped = inpute_tensor.view(1, 1, int(fp_len*maxlen), 1)\n",
    "        conv1_output = F.relu(self.conv1(input_reshaped))\n",
    "        conv1_reshaped = conv1_output.view(1, 1, int(fp_len*maxlen), 1)\n",
    "        conv2_output = self.conv2(conv1_reshaped)\n",
    "        conv2_reshaped = conv2_output.view(1, 1, int(fp_len*maxlen/2), 1)\n",
    "        conv3_output = self.conv3(conv2_reshaped)\n",
    "        conv3_reshaped = conv3_output.view(1, 1, int(fp_len*maxlen/2), 1)\n",
    "        conv4_output = self.conv4(conv3_reshaped)\n",
    "        conv4_reshaped = conv4_output.view(1, 1, int(fp_len/2), maxlen)\n",
    "        pool2d = F.max_pool2d(conv4_reshaped, kernel_size=(1, maxlen))\n",
    "        pool2d_reshaped = pool2d.view(int(fp_len/2))\n",
    "        fc1_output = F.relu(self.fc1(pool2d_reshaped))\n",
    "        fc2_output = torch.sigmoid(self.fc2(fc1_output))\n",
    "\n",
    "        activations = [input_tensor, conv1_output, conv2_output, conv3_output, conv4_output, pool2d, fc1_output, fc2_output]\n",
    "        max_pool2d = [(1, maxlen), None, 0]\n",
    "        reshaped = [input_reshaped, conv1_reshaped, conv2_reshaped, conv3_reshaped, conv4_reshaped, pool2d_reshaped, \\\n",
    "                    fc1_output, fc2_output]\n",
    "        \n",
    "        output = {'activations': activations, 'max_pool2d': max_pool2d, 'reshaped': reshaped}\n",
    "        return output\n",
    "\n",
    "print(Net())"
   ]
  },
  {
   "cell_type": "markdown",
   "metadata": {},
   "source": [
    "### 3. Test the Model"
   ]
  },
  {
   "cell_type": "markdown",
   "metadata": {},
   "source": [
    "**3-1. Restore Model**"
   ]
  },
  {
   "cell_type": "code",
   "execution_count": 355,
   "metadata": {},
   "outputs": [
    {
     "data": {
      "text/plain": [
       "<All keys matched successfully>"
      ]
     },
     "execution_count": 355,
     "metadata": {},
     "output_type": "execute_result"
    }
   ],
   "source": [
    "PATH = './' + model_info + str(0) + '.pth'\n",
    "net = Net()\n",
    "net.load_state_dict(torch.load(PATH))"
   ]
  },
  {
   "cell_type": "code",
   "execution_count": 357,
   "metadata": {},
   "outputs": [
    {
     "name": "stdout",
     "output_type": "stream",
     "text": [
      "----------------------------------------------------------------\n",
      "        Layer (type)               Output Shape         Param #\n",
      "================================================================\n",
      "            Conv2d-1           [-1, 512, 20, 1]         262,656\n",
      "            Conv2d-2           [-1, 256, 20, 1]         131,328\n",
      "            Conv2d-3           [-1, 256, 20, 1]          65,792\n",
      "            Conv2d-4           [-1, 256, 20, 1]          65,792\n",
      "            Linear-5                       [-1]          32,896\n",
      "            Linear-6                       [-1]             129\n",
      "================================================================\n",
      "Total params: 558,593\n",
      "Trainable params: 558,593\n",
      "Non-trainable params: 0\n",
      "----------------------------------------------------------------\n",
      "Input size (MB): 0.02\n",
      "Forward/backward pass size (MB): 0.20\n",
      "Params size (MB): 2.13\n",
      "Estimated Total Size (MB): 2.35\n",
      "----------------------------------------------------------------\n"
     ]
    }
   ],
   "source": [
    "from torchsummary import summary\n",
    "summary(net, input_size=(1, 10, 512))"
   ]
  },
  {
   "cell_type": "markdown",
   "metadata": {},
   "source": [
    "**3-2. Visualize the Heatmap**"
   ]
  },
  {
   "cell_type": "markdown",
   "metadata": {},
   "source": [
    "**~~TODO: Implement backprop_maxpool, backprop_conv2d, ...~~**"
   ]
  },
  {
   "cell_type": "code",
   "execution_count": 383,
   "metadata": {},
   "outputs": [],
   "source": [
    "class DTD(nn.Module):\n",
    "    def __init__(self, lowest=0., highest=1.):\n",
    "        super(DTD, self).__init__()\n",
    "        self.lowest = lowest\n",
    "        self.highest = highest\n",
    "        self.Rs = []\n",
    "        \n",
    "    def forward(self, net, input_tensor):\n",
    "        net_output = net(input_tensor)\n",
    "        activations = net_output['activations']\n",
    "        kernel_size, strides, padding = net_output['max_pool2d']\n",
    "        reshaped = net_output['reshaped']\n",
    "        \n",
    "        modules = self.model_flattening(net)\n",
    "        \n",
    "        j = -1\n",
    "        self.Rs.append(activations[j])\n",
    "        j -= 1\n",
    "        \n",
    "        for i in range(len(modules)-1, -1, -1):\n",
    "            if isinstance(modules[i], nn.Conv2d):\n",
    "                if isinstance(modules[i+1], nn.Linear):\n",
    "                    print('MaxPool')\n",
    "                    R = self.backprop_max_pool(reshaped[j], kernel_size, strides, padding, self.Rs[-1])\n",
    "                    R = R.view(activations[j].shape)\n",
    "                    self.Rs.append(R)\n",
    "                    j -= 1\n",
    "                    print(self.Rs[-1].shape, '\\n')\n",
    "                    \n",
    "                    print('Conv2d')\n",
    "                    R = self.backprop_conv(reshaped[j], modules[i], self.Rs[-1])\n",
    "                    R = R.view(activations[j].shape)\n",
    "                    self.Rs.append(R)\n",
    "                    j -= 1\n",
    "                    print(self.Rs[-1].shape, '\\n')\n",
    "                    \n",
    "                elif i == 0:\n",
    "                    print('Conv2d Input')\n",
    "                    R = self.backprop_conv_input(reshaped[j], modules[i], self.Rs[-1])\n",
    "                    R = R.view(activations[j].shape)\n",
    "                    self.Rs.append(R)\n",
    "                    j -= 1\n",
    "                    print(self.Rs[-1].shape, '\\n')\n",
    "                    \n",
    "                else:\n",
    "                    print('Conv2d')\n",
    "                    R = self.backprop_conv(reshaped[j], modules[i], self.Rs[-1])\n",
    "                    R = R.view(activations[j].shape)\n",
    "                    self.Rs.append(R)\n",
    "                    j -= 1\n",
    "                    print(self.Rs[-1].shape, '\\n')\n",
    "                    \n",
    "            elif isinstance(modules[i], nn.Linear):\n",
    "                print('Linear')\n",
    "                activation = reshaped[j].view(-1, modules[i].in_features)\n",
    "                R = self.backprop_dense(activation, modules[i], self.Rs[-1])\n",
    "                R = R.view(activations[j].shape)\n",
    "                self.Rs.append(R)\n",
    "                j -= 1\n",
    "                print(self.Rs[-1].shape, '\\n')\n",
    "                \n",
    "        return self.Rs\n",
    "\n",
    "                \n",
    "    def backprop_dense(self, activation, module, R):\n",
    "        W = torch.clamp(module.weight, min=0)\n",
    "        Z = torch.mm(activation, torch.transpose(W, 0, 1)) + 1e-9\n",
    "        S = R / Z\n",
    "        C = torch.mm(S, W)\n",
    "        R = activation * C\n",
    "\n",
    "        return R\n",
    "    \n",
    "\n",
    "    def backprop_conv(self, activation, module, R):\n",
    "        stride, padding, kernel = module.stride, module.padding, module.kernel_size\n",
    "        output_padding = activation.size(2) - ((R.size(2) - 1) * stride[0] \\\n",
    "                                        - 2 * padding[0] + kernel[0])\n",
    "        W = torch.clamp(module.weight, min=0)\n",
    "        Z = F.conv2d(activation, W, stride=stride, padding=padding) + 1e-9\n",
    "        S = R / Z\n",
    "        C = F.conv_transpose2d(S, W, stride=stride, padding=padding, output_padding=output_padding)\n",
    "        R = activation * C\n",
    "\n",
    "        return R\n",
    "\n",
    "    \n",
    "    def backprop_conv_input(self, activation, module, R):\n",
    "        stride, padding, kernel = module.stride, module.padding, module.kernel_size\n",
    "        output_padding = activation.size(2) - ((R.size(2) - 1) * stride[0] \\\n",
    "                                                - 2 * padding[0] + kernel[0])\n",
    "\n",
    "        W_L = torch.clamp(module.weight, min=0)\n",
    "        W_H = torch.clamp(module.weight, max=0)\n",
    "\n",
    "        L = torch.ones_like(activation, dtype=activation.dtype) * self.lowest\n",
    "        H = torch.ones_like(activation, dtype=activation.dtype) * self.highest\n",
    "\n",
    "        Z_O = F.conv2d(activation, module.weight, stride=stride, padding=padding)\n",
    "        Z_L = F.conv2d(L, W_L, stride=stride, padding=padding)\n",
    "        Z_H = F.conv2d(H, W_H, stride=stride, padding=padding)\n",
    "\n",
    "        Z = Z_O - Z_L - Z_H + 1e-9\n",
    "        S = R / Z\n",
    "\n",
    "        C_O = F.conv_transpose2d(S, module.weight, stride=stride, padding=padding, output_padding=output_padding)\n",
    "        C_L = F.conv_transpose2d(S, W_L, stride=stride, padding=padding, output_padding=output_padding)\n",
    "        C_H = F.conv_transpose2d(S, W_H, stride=stride, padding=padding, output_padding=output_padding)\n",
    "\n",
    "        R = activation * C_O - L * C_L - H * C_H\n",
    "\n",
    "        return R   \n",
    "\n",
    "    \n",
    "    def backprop_max_pool(self, activation, kernel_size, stride, padidng, R):\n",
    "        #kernel_size, stride, padding = module.kernel_size, module.stride, module.padding\n",
    "        Z, indices = F.max_pool2d(activation, kernel_size=kernel_size, stride=stride, \\\n",
    "                                  padding=padding, return_indices=True)\n",
    "        Z = Z + 1e-9\n",
    "        S = R / Z\n",
    "        C = F.max_unpool2d(S, indices, kernel_size=kernel_size, stride=stride, \\\n",
    "                            padding=padding, output_size=activation.shape)\n",
    "        R = activation * C\n",
    "\n",
    "        return R\n",
    "    \n",
    "    \n",
    "    def model_flattening(self, module_tree):\n",
    "        module_list = []\n",
    "        children_list = list(module_tree.children())\n",
    "        if len(children_list) == 0:\n",
    "            return [module_tree]\n",
    "        else:\n",
    "            for i in range(len(children_list)):\n",
    "                module = model_flattening(children_list[i])\n",
    "                module = [j for j in module]\n",
    "                module_list.extend(module)\n",
    "            return module_list"
   ]
  },
  {
   "cell_type": "code",
   "execution_count": 453,
   "metadata": {
    "scrolled": false
   },
   "outputs": [
    {
     "name": "stdout",
     "output_type": "stream",
     "text": [
      "Linear\n",
      "torch.Size([128]) \n",
      "\n",
      "Linear\n",
      "torch.Size([1, 1, 256, 1]) \n",
      "\n",
      "MaxPool\n",
      "torch.Size([1, 256, 20, 1]) \n",
      "\n",
      "Conv2d\n",
      "torch.Size([1, 256, 20, 1]) \n",
      "\n",
      "Conv2d\n",
      "torch.Size([1, 256, 20, 1]) \n",
      "\n",
      "Conv2d\n",
      "torch.Size([1, 512, 20, 1]) \n",
      "\n",
      "Conv2d Input\n",
      "torch.Size([1, 1, 10240, 1]) \n",
      "\n",
      "torch.Size([1, 1, 10240, 1])\n",
      "torch.Size([1])\n"
     ]
    }
   ],
   "source": [
    "input_tensor = test_10cv[1][3][0]\n",
    "\n",
    "dtd = DTD()\n",
    "Rs = dtd(net, input_tensor)\n",
    "\n",
    "print(Rs[-1].shape)\n",
    "print(Rs[0].shape)"
   ]
  },
  {
   "cell_type": "markdown",
   "metadata": {},
   "source": [
    "**Test if relevance score is conservative**"
   ]
  },
  {
   "cell_type": "code",
   "execution_count": 454,
   "metadata": {},
   "outputs": [
    {
     "name": "stdout",
     "output_type": "stream",
     "text": [
      "relevance_sum:  0.9979939\n",
      "output:  tensor([0.9980], grad_fn=<SigmoidBackward>)\n"
     ]
    }
   ],
   "source": [
    "temp = Rs[-1].detach().numpy()\n",
    "print('relevance_sum: ', np.sum(temp))\n",
    "\n",
    "output = net(input_tensor)['activations'][-1]\n",
    "print('output: ', output)"
   ]
  },
  {
   "cell_type": "code",
   "execution_count": 460,
   "metadata": {
    "scrolled": false
   },
   "outputs": [
    {
     "name": "stdout",
     "output_type": "stream",
     "text": [
      "[ 0 : 512 ]\n"
     ]
    },
    {
     "data": {
      "image/png": "[encoded data removed]",
      "text/plain": [
       "<Figure size 1440x72 with 4 Axes>"
      ]
     },
     "metadata": {
      "needs_background": "light"
     },
     "output_type": "display_data"
    },
    {
     "name": "stdout",
     "output_type": "stream",
     "text": [
      "[ 512 : 1024 ]\n"
     ]
    },
    {
     "data": {
      "image/png": "[encoded data removed]",
      "text/plain": [
       "<Figure size 1440x72 with 4 Axes>"
      ]
     },
     "metadata": {
      "needs_background": "light"
     },
     "output_type": "display_data"
    },
    {
     "name": "stdout",
     "output_type": "stream",
     "text": [
      "[ 1024 : 1536 ]\n"
     ]
    },
    {
     "data": {
      "image/png": "[encoded data removed]",
      "text/plain": [
       "<Figure size 1440x72 with 4 Axes>"
      ]
     },
     "metadata": {
      "needs_background": "light"
     },
     "output_type": "display_data"
    },
    {
     "name": "stdout",
     "output_type": "stream",
     "text": [
      "[ 1536 : 2048 ]\n"
     ]
    },
    {
     "data": {
      "image/png": "[encoded data removed]",
      "text/plain": [
       "<Figure size 1440x72 with 4 Axes>"
      ]
     },
     "metadata": {
      "needs_background": "light"
     },
     "output_type": "display_data"
    },
    {
     "name": "stdout",
     "output_type": "stream",
     "text": [
      "[ 2048 : 2560 ]\n"
     ]
    },
    {
     "data": {
      "image/png": "[encoded data removed]",
      "text/plain": [
       "<Figure size 1440x72 with 4 Axes>"
      ]
     },
     "metadata": {
      "needs_background": "light"
     },
     "output_type": "display_data"
    },
    {
     "name": "stdout",
     "output_type": "stream",
     "text": [
      "[ 2560 : 3072 ]\n"
     ]
    },
    {
     "data": {
      "image/png": "[encoded data removed]",
      "text/plain": [
       "<Figure size 1440x72 with 4 Axes>"
      ]
     },
     "metadata": {
      "needs_background": "light"
     },
     "output_type": "display_data"
    },
    {
     "name": "stdout",
     "output_type": "stream",
     "text": [
      "[ 3072 : 3584 ]\n"
     ]
    },
    {
     "data": {
      "image/png": "[encoded data removed]",
      "text/plain": [
       "<Figure size 1440x72 with 4 Axes>"
      ]
     },
     "metadata": {
      "needs_background": "light"
     },
     "output_type": "display_data"
    },
    {
     "name": "stdout",
     "output_type": "stream",
     "text": [
      "[ 3584 : 4096 ]\n"
     ]
    },
    {
     "data": {
      "image/png": "[encoded data removed]",
      "text/plain": [
       "<Figure size 1440x72 with 4 Axes>"
      ]
     },
     "metadata": {
      "needs_background": "light"
     },
     "output_type": "display_data"
    },
    {
     "name": "stdout",
     "output_type": "stream",
     "text": [
      "[ 4096 : 4608 ]\n"
     ]
    },
    {
     "data": {
      "image/png": "[encoded data removed]",
      "text/plain": [
       "<Figure size 1440x72 with 4 Axes>"
      ]
     },
     "metadata": {
      "needs_background": "light"
     },
     "output_type": "display_data"
    },
    {
     "name": "stdout",
     "output_type": "stream",
     "text": [
      "[ 4608 : 5120 ]\n"
     ]
    },
    {
     "data": {
      "image/png": "[encoded data removed]",
      "text/plain": [
       "<Figure size 1440x72 with 4 Axes>"
      ]
     },
     "metadata": {
      "needs_background": "light"
     },
     "output_type": "display_data"
    },
    {
     "name": "stdout",
     "output_type": "stream",
     "text": [
      "[ 5120 : 5632 ]\n"
     ]
    },
    {
     "data": {
      "image/png": "[encoded data removed]",
      "text/plain": [
       "<Figure size 1440x72 with 4 Axes>"
      ]
     },
     "metadata": {
      "needs_background": "light"
     },
     "output_type": "display_data"
    },
    {
     "name": "stdout",
     "output_type": "stream",
     "text": [
      "[ 5632 : 6144 ]\n"
     ]
    },
    {
     "data": {
      "image/png": "[encoded data removed]",
      "text/plain": [
       "<Figure size 1440x72 with 4 Axes>"
      ]
     },
     "metadata": {
      "needs_background": "light"
     },
     "output_type": "display_data"
    },
    {
     "name": "stdout",
     "output_type": "stream",
     "text": [
      "[ 6144 : 6656 ]\n"
     ]
    },
    {
     "data": {
      "image/png": "[encoded data removed]",
      "text/plain": [
       "<Figure size 1440x72 with 4 Axes>"
      ]
     },
     "metadata": {
      "needs_background": "light"
     },
     "output_type": "display_data"
    },
    {
     "name": "stdout",
     "output_type": "stream",
     "text": [
      "[ 6656 : 7168 ]\n"
     ]
    },
    {
     "data": {
      "image/png": "[encoded data removed]",
      "text/plain": [
       "<Figure size 1440x72 with 4 Axes>"
      ]
     },
     "metadata": {
      "needs_background": "light"
     },
     "output_type": "display_data"
    },
    {
     "name": "stdout",
     "output_type": "stream",
     "text": [
      "[ 7168 : 7680 ]\n"
     ]
    },
    {
     "data": {
      "image/png": "[encoded data removed]",
      "text/plain": [
       "<Figure size 1440x72 with 4 Axes>"
      ]
     },
     "metadata": {
      "needs_background": "light"
     },
     "output_type": "display_data"
    },
    {
     "name": "stdout",
     "output_type": "stream",
     "text": [
      "[ 7680 : 8192 ]\n"
     ]
    },
    {
     "data": {
      "image/png": "[encoded data removed]",
      "text/plain": [
       "<Figure size 1440x72 with 4 Axes>"
      ]
     },
     "metadata": {
      "needs_background": "light"
     },
     "output_type": "display_data"
    },
    {
     "name": "stdout",
     "output_type": "stream",
     "text": [
      "[ 8192 : 8704 ]\n"
     ]
    },
    {
     "data": {
      "image/png": "[encoded data removed]",
      "text/plain": [
       "<Figure size 1440x72 with 4 Axes>"
      ]
     },
     "metadata": {
      "needs_background": "light"
     },
     "output_type": "display_data"
    },
    {
     "name": "stdout",
     "output_type": "stream",
     "text": [
      "[ 8704 : 9216 ]\n"
     ]
    },
    {
     "data": {
      "image/png": "[encoded data removed]",
      "text/plain": [
       "<Figure size 1440x72 with 4 Axes>"
      ]
     },
     "metadata": {
      "needs_background": "light"
     },
     "output_type": "display_data"
    },
    {
     "name": "stdout",
     "output_type": "stream",
     "text": [
      "[ 9216 : 9728 ]\n"
     ]
    },
    {
     "data": {
      "image/png": "[encoded data removed]",
      "text/plain": [
       "<Figure size 1440x72 with 4 Axes>"
      ]
     },
     "metadata": {
      "needs_background": "light"
     },
     "output_type": "display_data"
    },
    {
     "name": "stdout",
     "output_type": "stream",
     "text": [
      "[ 9728 : 10240 ]\n"
     ]
    },
    {
     "data": {
      "image/png": "[encoded data removed]",
      "text/plain": [
       "<Figure size 1440x72 with 4 Axes>"
      ]
     },
     "metadata": {
      "needs_background": "light"
     },
     "output_type": "display_data"
    }
   ],
   "source": [
    "R = Rs[-1].detach().numpy()[0, 0, :, 0]\n",
    "\n",
    "input_reshaped = input_tensor.view(1, 1, int(fp_len*maxlen), 1)\n",
    "input_reshaped = input_reshaped.detach().numpy()[0, 0, :, 0]\n",
    "\n",
    "for i in range(maxlen):\n",
    "    print('[', 512*i, ':', 512*(i+1), ']')\n",
    "    R_image = R[512*i:512*(i+1)]\n",
    "    R_image = np.expand_dims(R_image, 0)\n",
    "    \n",
    "    fig = plt.figure(figsize=(20, 1))\n",
    "\n",
    "    # Heatmap\n",
    "    ax = plt.subplot(2, 1, 1)\n",
    "\n",
    "    ax.set_yticklabels([])\n",
    "    ax.set_xticklabels([])\n",
    "    plt.imshow(R_image, aspect='auto', cmap='hot_r')\n",
    "    \n",
    "    ax = plt.gca()\n",
    "    divider = make_axes_locatable(ax)\n",
    "    cax = divider.append_axes(\"right\", size=\"1%\", pad=0.05)\n",
    "    plt.colorbar(cax=cax)\n",
    "    cax.set_xticklabels([])\n",
    "    \n",
    "    # Input data\n",
    "    ax = plt.subplot(2, 1, 2)\n",
    "    \n",
    "    ax.set_yticklabels([])\n",
    "    input_image = input_tensor[512*i:512*(i+1)]\n",
    "    input_image = np.expand_dims(input_image, 0)\n",
    "\n",
    "    plt.imshow(input_image, aspect='auto', cmap='gray')\n",
    "\n",
    "    ax = plt.gca()\n",
    "    divider = make_axes_locatable(ax)\n",
    "    cax = divider.append_axes(\"right\", size=\"1%\", pad=0.05)\n",
    "    cax.set_xticklabels([])\n",
    "    cax.set_yticklabels([])\n",
    "    \n",
    "    #plt.savefig(str(i)+'.png')\n",
    "    #plt.clf()\n",
    "    plt.show()"
   ]
  },
  {
   "cell_type": "code",
   "execution_count": null,
   "metadata": {},
   "outputs": [],
   "source": []
  }
 ],
 "metadata": {
  "kernelspec": {
   "display_name": "Python 3",
   "language": "python",
   "name": "python3"
  },
  "language_info": {
   "codemirror_mode": {
    "name": "ipython",
    "version": 3
   },
   "file_extension": ".py",
   "mimetype": "text/x-python",
   "name": "python",
   "nbconvert_exporter": "python",
   "pygments_lexer": "ipython3",
   "version": "3.7.5"
  }
 },
 "nbformat": 4,
 "nbformat_minor": 2
}
